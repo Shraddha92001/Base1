{
 "cells": [
  {
   "cell_type": "code",
   "execution_count": 1,
   "metadata": {},
   "outputs": [
    {
     "name": "stdout",
     "output_type": "stream",
     "text": [
      "['cat', 'dog', 'elephant']\n"
     ]
    }
   ],
   "source": [
    "#basic syntex of list\n",
    "animal = [\"cat\",\"dog\",\"elephant\"]\n",
    "print(animal)"
   ]
  },
  {
   "cell_type": "code",
   "execution_count": 2,
   "metadata": {},
   "outputs": [
    {
     "name": "stdout",
     "output_type": "stream",
     "text": [
      "['cat', 'dog', 'elephant', 'cat', 'dog', 'elephant']\n"
     ]
    }
   ],
   "source": [
    "#allow duplicate values\n",
    "animal = [\"cat\",\"dog\",\"elephant\",\"cat\",\"dog\",\"elephant\"]\n",
    "print(animal)"
   ]
  },
  {
   "cell_type": "code",
   "execution_count": 3,
   "metadata": {},
   "outputs": [
    {
     "name": "stdout",
     "output_type": "stream",
     "text": [
      "6\n"
     ]
    }
   ],
   "source": [
    "#find the length of list\n",
    "print(len(animal))"
   ]
  },
  {
   "cell_type": "code",
   "execution_count": 4,
   "metadata": {},
   "outputs": [
    {
     "name": "stdout",
     "output_type": "stream",
     "text": [
      "elephant\n"
     ]
    }
   ],
   "source": [
    "#access 2nd element from list\n",
    "print(animal[2])"
   ]
  },
  {
   "cell_type": "code",
   "execution_count": 5,
   "metadata": {},
   "outputs": [
    {
     "name": "stdout",
     "output_type": "stream",
     "text": [
      "['cat', 'dog', 'cow', 'cat', 'dog', 'elephant']\n"
     ]
    }
   ],
   "source": [
    "# change list items \n",
    "\n",
    "animal[2] = \"cow\"\n",
    "print(animal)"
   ]
  }
 ],
 "metadata": {
  "kernelspec": {
   "display_name": "base",
   "language": "python",
   "name": "python3"
  },
  "language_info": {
   "codemirror_mode": {
    "name": "ipython",
    "version": 3
   },
   "file_extension": ".py",
   "mimetype": "text/x-python",
   "name": "python",
   "nbconvert_exporter": "python",
   "pygments_lexer": "ipython3",
   "version": "3.11.4"
  },
  "orig_nbformat": 4
 },
 "nbformat": 4,
 "nbformat_minor": 2
}
