{
 "cells": [
  {
   "cell_type": "code",
   "execution_count": 1,
   "metadata": {},
   "outputs": [
    {
     "name": "stdout",
     "output_type": "stream",
     "text": [
      "{'neha': {'english': 90, 'maths': 30, 'science': 50}, 'rahul': {'english': 90, 'maths': 30, 'science': 50}}\n"
     ]
    }
   ],
   "source": [
    "report = {\n",
    "    'neha':{\n",
    "        'english' : 90,\n",
    "        'maths' : 30,\n",
    "        'science' : 50\n",
    "    },\n",
    "\n",
    "    'rahul':{\n",
    "        'english' : 90,\n",
    "        'maths' : 30,\n",
    "        'science' : 50\n",
    "    },\n",
    "}\n",
    "\n",
    "print(report)"
   ]
  },
  {
   "cell_type": "code",
   "execution_count": 2,
   "metadata": {},
   "outputs": [
    {
     "name": "stdout",
     "output_type": "stream",
     "text": [
      "{'neha': {'english': 90, 'maths': 30, 'science': 50},\n",
      " 'rahul': {'english': 90, 'maths': 30, 'science': 50}}\n"
     ]
    }
   ],
   "source": [
    "from pprint import pp\n",
    "pp(report)"
   ]
  },
  {
   "cell_type": "code",
   "execution_count": null,
   "metadata": {},
   "outputs": [],
   "source": []
  },
  {
   "cell_type": "code",
   "execution_count": 3,
   "metadata": {},
   "outputs": [],
   "source": [
    "\n",
    "grocery = {\n",
    "    'fruit' : ['apple','banana','mango'],\n",
    "    'veg' : ['carrot','onion','patato'],\n",
    "    \n",
    "}"
   ]
  },
  {
   "cell_type": "code",
   "execution_count": 4,
   "metadata": {},
   "outputs": [
    {
     "name": "stdout",
     "output_type": "stream",
     "text": [
      "{'fruit': ['apple', 'banana', 'mango'],\n",
      " 'veg': ['carrot', 'onion', 'patato'],\n",
      " 'spivce': ['cumin', 'coriander', 'turmeric']}\n"
     ]
    }
   ],
   "source": [
    "grocery['spivce'] = ['cumin','coriander','turmeric']\n",
    "pp(grocery)"
   ]
  },
  {
   "cell_type": "code",
   "execution_count": 5,
   "metadata": {},
   "outputs": [
    {
     "name": "stdout",
     "output_type": "stream",
     "text": [
      "{'fruit': ['apple', 'banana', 'mango', 'lichi'],\n",
      " 'veg': ['carrot', 'onion', 'patato'],\n",
      " 'spivce': ['cumin', 'coriander', 'turmeric']}\n"
     ]
    }
   ],
   "source": [
    "grocery['fruit'].append('lichi')\n",
    "pp(grocery)"
   ]
  },
  {
   "cell_type": "code",
   "execution_count": 6,
   "metadata": {},
   "outputs": [
    {
     "name": "stdout",
     "output_type": "stream",
     "text": [
      "{'neha': {'english': 90, 'maths': 30, 'science': 50, 'evs': 99},\n",
      " 'rahul': {'english': 90, 'maths': 30, 'science': 50}}\n"
     ]
    }
   ],
   "source": [
    "report['neha']['evs']=99\n",
    "pp(report)"
   ]
  },
  {
   "cell_type": "code",
   "execution_count": 7,
   "metadata": {},
   "outputs": [
    {
     "data": {
      "text/plain": [
       "{'english': 90, 'maths': 30, 'science': 50, 'evs': 99}"
      ]
     },
     "execution_count": 7,
     "metadata": {},
     "output_type": "execute_result"
    }
   ],
   "source": [
    "report.pop('neha')"
   ]
  },
  {
   "cell_type": "code",
   "execution_count": 8,
   "metadata": {},
   "outputs": [],
   "source": [
    "grocery['fruit'].remove('mango')"
   ]
  },
  {
   "cell_type": "code",
   "execution_count": 9,
   "metadata": {},
   "outputs": [
    {
     "ename": "NameError",
     "evalue": "name 'fruit' is not defined",
     "output_type": "error",
     "traceback": [
      "\u001b[1;31m---------------------------------------------------------------------------\u001b[0m",
      "\u001b[1;31mNameError\u001b[0m                                 Traceback (most recent call last)",
      "Cell \u001b[1;32mIn[9], line 1\u001b[0m\n\u001b[1;32m----> 1\u001b[0m fruit\u001b[39m.\u001b[39mkeys()\n",
      "\u001b[1;31mNameError\u001b[0m: name 'fruit' is not defined"
     ]
    }
   ],
   "source": [
    "fruit.keys()"
   ]
  },
  {
   "cell_type": "code",
   "execution_count": null,
   "metadata": {},
   "outputs": [
    {
     "ename": "",
     "evalue": "",
     "output_type": "error",
     "traceback": [
      "\u001b[1;31mFailed to start the Kernel. \n",
      "\u001b[1;31mIndentationError: unexpected indent. \n",
      "\u001b[1;31mView Jupyter <a href='command:jupyter.viewOutput'>log</a> for further details."
     ]
    }
   ],
   "source": [
    "report.keys()"
   ]
  },
  {
   "cell_type": "code",
   "execution_count": null,
   "metadata": {},
   "outputs": [
    {
     "ename": "",
     "evalue": "",
     "output_type": "error",
     "traceback": [
      "\u001b[1;31mFailed to start the Kernel. \n",
      "\u001b[1;31mIndentationError: unexpected indent. \n",
      "\u001b[1;31mView Jupyter <a href='command:jupyter.viewOutput'>log</a> for further details."
     ]
    }
   ],
   "source": [
    "report.values()"
   ]
  },
  {
   "cell_type": "code",
   "execution_count": null,
   "metadata": {},
   "outputs": [
    {
     "ename": "",
     "evalue": "",
     "output_type": "error",
     "traceback": [
      "\u001b[1;31mFailed to start the Kernel. \n",
      "\u001b[1;31mIndentationError: unexpected indent. \n",
      "\u001b[1;31mView Jupyter <a href='command:jupyter.viewOutput'>log</a> for further details."
     ]
    }
   ],
   "source": [
    "report.items()"
   ]
  },
  {
   "cell_type": "code",
   "execution_count": null,
   "metadata": {},
   "outputs": [
    {
     "ename": "",
     "evalue": "",
     "output_type": "error",
     "traceback": [
      "\u001b[1;31mFailed to start the Kernel. \n",
      "\u001b[1;31mIndentationError: unexpected indent. \n",
      "\u001b[1;31mView Jupyter <a href='command:jupyter.viewOutput'>log</a> for further details."
     ]
    }
   ],
   "source": [
    "#traversal\n",
    "for k,v in report.items():\n",
    "    print(k,v)"
   ]
  },
  {
   "cell_type": "code",
   "execution_count": null,
   "metadata": {},
   "outputs": [
    {
     "ename": "",
     "evalue": "",
     "output_type": "error",
     "traceback": [
      "\u001b[1;31mFailed to start the Kernel. \n",
      "\u001b[1;31mIndentationError: unexpected indent. \n",
      "\u001b[1;31mView Jupyter <a href='command:jupyter.viewOutput'>log</a> for further details."
     ]
    }
   ],
   "source": [
    "report['rahul']['maths']\n"
   ]
  },
  {
   "cell_type": "code",
   "execution_count": null,
   "metadata": {},
   "outputs": [
    {
     "ename": "",
     "evalue": "",
     "output_type": "error",
     "traceback": [
      "\u001b[1;31mFailed to start the Kernel. \n",
      "\u001b[1;31mIndentationError: unexpected indent. \n",
      "\u001b[1;31mView Jupyter <a href='command:jupyter.viewOutput'>log</a> for further details."
     ]
    }
   ],
   "source": [
    "report.get('rahul')"
   ]
  },
  {
   "cell_type": "code",
   "execution_count": null,
   "metadata": {},
   "outputs": [
    {
     "ename": "",
     "evalue": "",
     "output_type": "error",
     "traceback": [
      "\u001b[1;31mFailed to start the Kernel. \n",
      "\u001b[1;31mIndentationError: unexpected indent. \n",
      "\u001b[1;31mView Jupyter <a href='command:jupyter.viewOutput'>log</a> for further details."
     ]
    }
   ],
   "source": [
    "report.get('shree','not here')"
   ]
  },
  {
   "cell_type": "code",
   "execution_count": null,
   "metadata": {},
   "outputs": [
    {
     "ename": "",
     "evalue": "",
     "output_type": "error",
     "traceback": [
      "\u001b[1;31mFailed to start the Kernel. \n",
      "\u001b[1;31mIndentationError: unexpected indent. \n",
      "\u001b[1;31mView Jupyter <a href='command:jupyter.viewOutput'>log</a> for further details."
     ]
    }
   ],
   "source": [
    "report"
   ]
  },
  {
   "cell_type": "code",
   "execution_count": null,
   "metadata": {},
   "outputs": [
    {
     "ename": "",
     "evalue": "",
     "output_type": "error",
     "traceback": [
      "\u001b[1;31mFailed to start the Kernel. \n",
      "\u001b[1;31mIndentationError: unexpected indent. \n",
      "\u001b[1;31mView Jupyter <a href='command:jupyter.viewOutput'>log</a> for further details."
     ]
    }
   ],
   "source": [
    "report ['shiv']= {\n",
    "    'english' : 90,\n",
    "    'maths' : 99,\n",
    "    'science' : 70\n",
    "}\n",
    "pp(report)"
   ]
  },
  {
   "cell_type": "code",
   "execution_count": null,
   "metadata": {},
   "outputs": [
    {
     "ename": "",
     "evalue": "",
     "output_type": "error",
     "traceback": [
      "\u001b[1;31mFailed to start the Kernel. \n",
      "\u001b[1;31mIndentationError: unexpected indent. \n",
      "\u001b[1;31mView Jupyter <a href='command:jupyter.viewOutput'>log</a> for further details."
     ]
    }
   ],
   "source": [
    "for student,details in report.items():\n",
    "    print(student)\n",
    "    for subject,marks in details.items():\n",
    "        print(f'{marks} in {subject}')\n",
    "    print('----'*10)"
   ]
  },
  {
   "cell_type": "code",
   "execution_count": null,
   "metadata": {},
   "outputs": [
    {
     "ename": "",
     "evalue": "",
     "output_type": "error",
     "traceback": [
      "\u001b[1;31mFailed to start the Kernel. \n",
      "\u001b[1;31mIndentationError: unexpected indent. \n",
      "\u001b[1;31mView Jupyter <a href='command:jupyter.viewOutput'>log</a> for further details."
     ]
    }
   ],
   "source": [
    "emp = {\n",
    "    'e1' : {\n",
    "        'name': 'rahul',\n",
    "         'dept' : 'abc',\n",
    "         'salary' : 100000,\n",
    "        'skill' : ['problem solving','communication'],\n",
    "        'project' : {\n",
    "            'pro_name' : 'ABCD',\n",
    "            'pro_duration' : 5,\n",
    "            'pro_tech' : ['power bi']\n",
    "        },\n",
    "    },\n",
    "     'e2' : {\n",
    "        'name': 'neha',\n",
    "         'dept' : 'abc',\n",
    "         'salary' : 100000,\n",
    "        'skill' : ['problem solving','communication'],\n",
    "        'project' : {\n",
    "            'pro_name' : 'ABCD',\n",
    "            'pro_duration' : 5,\n",
    "            'pro_tech' : ['power bi']\n",
    "        },\n",
    "    },\n",
    "    \n",
    "     'e3' : {\n",
    "        'name': 'ravi',\n",
    "         'dept' : 'abc',\n",
    "         'salary' : 100000,\n",
    "        'skill' : ['problem solving','communication'],\n",
    "        'project' : {\n",
    "            'pro_name' : 'ABCD',\n",
    "            'pro_duration' : 5,\n",
    "            'pro_tech' : ['power bi']\n",
    "        },\n",
    "    },\n",
    "    \n",
    "     'e4' : {\n",
    "        'name': 'shiv',\n",
    "         'dept' : 'abc',\n",
    "         'salary' : 100000,\n",
    "        'skill' : ['communication'],\n",
    "        'project' : {\n",
    "            'pro_name' : 'ABCD',\n",
    "            'pro_duration' : 5,\n",
    "            'pro_tech' : ['power bi']\n",
    "        },\n",
    "    },\n",
    "    \n",
    "     'e5' : {\n",
    "        'name': 'shree',\n",
    "         'dept' : 'abc',\n",
    "         'salary' : 100000,\n",
    "        'skill' : ['problem solving'],\n",
    "        'project' : {\n",
    "            'pro_name' : 'ABCD',\n",
    "            'pro_duration' : 5,\n",
    "            'pro_tech' : ['power bi']\n",
    "        },\n",
    "    },\n",
    "    \n",
    "}\n",
    "print(emp['e1'])\n",
    "print(emp['e2'])\n",
    "print(emp['e3'])\n",
    "print(emp['e4'])\n",
    "print(emp['e5'])"
   ]
  }
 ],
 "metadata": {
  "kernelspec": {
   "display_name": "base",
   "language": "python",
   "name": "python3"
  },
  "language_info": {
   "codemirror_mode": {
    "name": "ipython",
    "version": 3
   },
   "file_extension": ".py",
   "mimetype": "text/x-python",
   "name": "python",
   "nbconvert_exporter": "python",
   "pygments_lexer": "ipython3",
   "version": "3.11.4"
  },
  "orig_nbformat": 4
 },
 "nbformat": 4,
 "nbformat_minor": 2
}
