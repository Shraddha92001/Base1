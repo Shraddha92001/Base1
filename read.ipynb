{
 "cells": [
  {
   "cell_type": "code",
   "execution_count": null,
   "metadata": {},
   "outputs": [
    {
     "ename": "",
     "evalue": "",
     "output_type": "error",
     "traceback": [
      "\u001b[1;31mFailed to start the Kernel. \n",
      "\u001b[1;31mTraceback (most recent call last):\n",
      "\u001b[1;31m  File \"c:\\Users\\SHRADDHA SINGH\\miniconda3\\lib\\runpy.py\", line 196, in _run_module_as_main\n",
      "\u001b[1;31m    return _run_code(code, main_globals, None,\n",
      "\u001b[1;31m  File \"c:\\Users\\SHRADDHA SINGH\\miniconda3\\lib\\runpy.py\", line 86, in _run_code\n",
      "\u001b[1;31m    exec(code, run_globals)\n",
      "\u001b[1;31m  File \"c:\\Users\\SHRADDHA SINGH\\miniconda3\\lib\\site-packages\\ipykernel_launcher.py\", line 15, in <module>\n",
      "\u001b[1;31m    from ipykernel import kernelapp as app\n",
      "\u001b[1;31m  File \"c:\\Users\\SHRADDHA SINGH\\miniconda3\\lib\\site-packages\\ipykernel\\kernelapp.py\", line 51, in <module>\n",
      "\u001b[1;31m    from .ipkernel import IPythonKernel\n",
      "\u001b[1;31m  File \"c:\\Users\\SHRADDHA SINGH\\miniconda3\\lib\\site-packages\\ipykernel\\ipkernel.py\", line 22, in <module>\n",
      "\u001b[1;31m    from .debugger import Debugger, _is_debugpy_available\n",
      "\u001b[1;31m  File \"c:\\Users\\SHRADDHA SINGH\\miniconda3\\lib\\site-packages\\ipykernel\\debugger.py\", line 22, in <module>\n",
      "\u001b[1;31m    from debugpy.server import api  # noqa\n",
      "\u001b[1;31m  File \"c:\\Users\\SHRADDHA SINGH\\miniconda3\\lib\\site-packages\\debugpy\\server\\__init__.py\", line 9, in <module>\n",
      "\u001b[1;31m    import debugpy._vendored.force_pydevd  # noqa\n",
      "\u001b[1;31m  File \"c:\\Users\\SHRADDHA SINGH\\miniconda3\\lib\\site-packages\\debugpy\\_vendored\\force_pydevd.py\", line 37, in <module>\n",
      "\u001b[1;31m    pydevd_constants = import_module('_pydevd_bundle.pydevd_constants')\n",
      "\u001b[1;31m  File \"c:\\Users\\SHRADDHA SINGH\\miniconda3\\lib\\importlib\\__init__.py\", line 126, in import_module\n",
      "\u001b[1;31m    return _bootstrap._gcd_import(name[level:], package, level)\n",
      "\u001b[1;31m  File \"c:\\Users\\SHRADDHA SINGH\\miniconda3\\lib\\site-packages\\debugpy\\_vendored\\pydevd\\_pydevd_bundle\\pydevd_constants.py\", line 365, in <module>\n",
      "\u001b[1;31m    from _pydev_imps._pydev_saved_modules import thread, threading\n",
      "\u001b[1;31m  File \"c:\\Users\\SHRADDHA SINGH\\miniconda3\\lib\\site-packages\\debugpy\\_vendored\\pydevd\\_pydev_imps\\_pydev_saved_modules.py\", line 93, in <module>\n",
      "\u001b[1;31m    import code as _code;    verify_shadowed.check(_code, ['compile_command', 'InteractiveInterpreter'])\n",
      "\u001b[1;31m  File \"c:\\Users\\SHRADDHA SINGH\\miniconda3\\lib\\site-packages\\debugpy\\_vendored\\pydevd\\_pydev_imps\\_pydev_saved_modules.py\", line 77, in check\n",
      "\u001b[1;31m    raise DebuggerInitializationError(msg)\n",
      "\u001b[1;31m_pydev_imps._pydev_saved_modules.DebuggerInitializationError: It was not possible to initialize the debugger due to a module name conflict.\n",
      "\u001b[1;31m\n",
      "\u001b[1;31mi.e.: the module \"code\" could not be imported because it is shadowed by:\n",
      "\u001b[1;31mc:\\Users\\SHRADDHA SINGH\\OneDrive\\Desktop\\Base1\\code.py\n",
      "\u001b[1;31mPlease rename this file/folder so that the original module from the standard library can be imported. \n",
      "\u001b[1;31mView Jupyter <a href='command:jupyter.viewOutput'>log</a> for further details."
     ]
    }
   ],
   "source": [
    "# read file\n",
    "\n",
    "with open('t1.py') as f:\n",
    "    print(f.read())"
   ]
  },
  {
   "cell_type": "code",
   "execution_count": 1,
   "metadata": {},
   "outputs": [],
   "source": [
    "# write the file\n",
    "\n",
    "\n",
    "data= \"hello world\"\n",
    "\n",
    "#creating file\n",
    "with open(\"hello.py\",'w')as f:\n",
    "    f.write(data)"
   ]
  },
  {
   "cell_type": "code",
   "execution_count": null,
   "metadata": {},
   "outputs": [
    {
     "ename": "",
     "evalue": "",
     "output_type": "error",
     "traceback": [
      "\u001b[1;31mFailed to start the Kernel. \n",
      "\u001b[1;31mIndentationError: unexpected indent. \n",
      "\u001b[1;31mView Jupyter <a href='command:jupyter.viewOutput'>log</a> for further details."
     ]
    }
   ],
   "source": [
    "codedemo = ''' def thisfun():\n",
    "        print(\"hello world\")\n",
    "        '''\n",
    "\n",
    "with open('code.py','w') as f:\n",
    "    f.write(codedemo)"
   ]
  }
 ],
 "metadata": {
  "kernelspec": {
   "display_name": "base",
   "language": "python",
   "name": "python3"
  },
  "language_info": {
   "codemirror_mode": {
    "name": "ipython",
    "version": 3
   },
   "file_extension": ".py",
   "mimetype": "text/x-python",
   "name": "python",
   "nbconvert_exporter": "python",
   "pygments_lexer": "ipython3",
   "version": "3.10.10"
  },
  "orig_nbformat": 4
 },
 "nbformat": 4,
 "nbformat_minor": 2
}
