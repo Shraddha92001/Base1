{
 "cells": [
  {
   "cell_type": "code",
   "execution_count": 1,
   "metadata": {},
   "outputs": [
    {
     "name": "stdout",
     "output_type": "stream",
     "text": [
      "['abc1', 52, 10, 25]\n",
      "['abc2', 52, 10, 25]\n",
      "['abc3', 52, 10, 25]\n",
      "['abc4', 52, 10, 25]\n",
      "['abc5', 52, 10, 25]\n",
      "['abc6', 52, 10, 25]\n",
      "['abc7', 52, 10, 25]\n"
     ]
    }
   ],
   "source": [
    "reports = [\n",
    "    [\"abc1\", 52,10,25],\n",
    "    ['abc2', 52,10,25],\n",
    "    ['abc3', 52,10,25],\n",
    "    [\"abc4\", 52,10,25],\n",
    "    ['abc5', 52,10,25],\n",
    "    ['abc6', 52,10,25],\n",
    "    ['abc7', 52,10,25]\n",
    "]\n",
    "for i in reports:\n",
    "    print(i)\n",
    "\n"
   ]
  },
  {
   "cell_type": "code",
   "execution_count": 2,
   "metadata": {},
   "outputs": [
    {
     "name": "stdout",
     "output_type": "stream",
     "text": [
      "no...\n"
     ]
    }
   ],
   "source": [
    "if \"abc1\" in reports:\n",
    "    print(\"yes it is in....\")\n",
    "else:\n",
    "    print(\"no...\")"
   ]
  },
  {
   "cell_type": "code",
   "execution_count": 3,
   "metadata": {},
   "outputs": [
    {
     "name": "stdout",
     "output_type": "stream",
     "text": [
      "[[['suman'], ['subject == ', 'hindi', 'english', 'math'], ['marks ==', 10, 20, 30]]]\n",
      "[[['neha'], ['subject == ', 'hindi', 'english', 'math'], ['marks ==', 10, 20, 30]]]\n",
      "[[['rahul'], ['subject == ', 'hindi', 'english', 'math'], ['marks ==', 10, 20, 30]]]\n",
      "[[['mayank'], ['subject == ', 'hindi', 'english', 'math'], ['marks ==', 10, 20, 30]]]\n",
      "[[['rajni'], ['subject == ', 'hindi', 'english', 'math'], ['marks ==', 10, 20, 30]]]\n",
      "[[['shree'], ['subject == ', 'hindi', 'english', 'math'], ['marks ==', 10, 20, 30]]]\n",
      "[[['shiv'], ['subject == ', 'hindi', 'english', 'math'], ['marks ==', 10, 20, 30]]]\n"
     ]
    }
   ],
   "source": [
    "report = [\n",
    "    [[['suman'],['subject == ','hindi', 'english', 'math'],[\"marks ==\",10,20,30]]],\n",
    "    [[['neha'],['subject == ','hindi', 'english', 'math'],[\"marks ==\",10,20,30]]],\n",
    "    [[['rahul'],['subject == ','hindi', 'english', 'math'],[\"marks ==\",10,20,30]]],\n",
    "    [[['mayank'],['subject == ','hindi', 'english', 'math'],[\"marks ==\",10,20,30]]],\n",
    "    [[['rajni'],['subject == ','hindi', 'english', 'math'],[\"marks ==\",10,20,30]]],\n",
    "    [[['shree'],['subject == ','hindi', 'english', 'math'],[\"marks ==\",10,20,30]]],\n",
    "    [[['shiv'],['subject == ','hindi', 'english', 'math'],[\"marks ==\",10,20,30]]]\n",
    "]\n",
    "\n",
    "for marks in report:\n",
    "    print(marks)\n",
    "\n",
    "\n"
   ]
  },
  {
   "cell_type": "code",
   "execution_count": 4,
   "metadata": {},
   "outputs": [
    {
     "name": "stdout",
     "output_type": "stream",
     "text": [
      "suman suman\n",
      "subject ==  subject == \n",
      "marks == marks ==\n",
      "neha neha\n",
      "subject ==  subject == \n",
      "marks == marks ==\n",
      "rahul rahul\n",
      "subject ==  subject == \n",
      "marks == marks ==\n",
      "mayank mayank\n",
      "subject ==  subject == \n",
      "marks == marks ==\n",
      "rajni rajni\n",
      "subject ==  subject == \n",
      "marks == marks ==\n",
      "shree shree\n",
      "subject ==  subject == \n",
      "marks == marks ==\n",
      "shiv shiv\n",
      "subject ==  subject == \n",
      "marks == marks ==\n"
     ]
    }
   ],
   "source": [
    "for stud in report:\n",
    "    for detail in stud:\n",
    "        if isinstance(detail, str):\n",
    "            print(detail)\n",
    "        if isinstance(detail,list):\n",
    "            for subject in detail:\n",
    "                print(subject[0], subject[0])"
   ]
  },
  {
   "cell_type": "code",
   "execution_count": null,
   "metadata": {},
   "outputs": [],
   "source": []
  },
  {
   "cell_type": "code",
   "execution_count": null,
   "metadata": {},
   "outputs": [],
   "source": []
  },
  {
   "cell_type": "code",
   "execution_count": null,
   "metadata": {},
   "outputs": [],
   "source": []
  },
  {
   "cell_type": "code",
   "execution_count": null,
   "metadata": {},
   "outputs": [],
   "source": []
  },
  {
   "cell_type": "code",
   "execution_count": null,
   "metadata": {},
   "outputs": [],
   "source": []
  }
 ],
 "metadata": {
  "kernelspec": {
   "display_name": "base",
   "language": "python",
   "name": "python3"
  },
  "language_info": {
   "codemirror_mode": {
    "name": "ipython",
    "version": 3
   },
   "file_extension": ".py",
   "mimetype": "text/x-python",
   "name": "python",
   "nbconvert_exporter": "python",
   "pygments_lexer": "ipython3",
   "version": "3.11.4"
  },
  "orig_nbformat": 4
 },
 "nbformat": 4,
 "nbformat_minor": 2
}
