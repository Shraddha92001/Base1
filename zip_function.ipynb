{
 "cells": [
  {
   "cell_type": "code",
   "execution_count": 3,
   "metadata": {},
   "outputs": [
    {
     "name": "stdout",
     "output_type": "stream",
     "text": [
      "10 4 7\n",
      "20 5 8\n",
      "30 6 9\n"
     ]
    }
   ],
   "source": [
    "x =[10,20,30]\n",
    "y =[4,5,6]\n",
    "z =[7,8,9]\n",
    "\n",
    "for i,j,k in zip(x,y,z):\n",
    "    print(i,j,k)"
   ]
  },
  {
   "cell_type": "code",
   "execution_count": 4,
   "metadata": {},
   "outputs": [
    {
     "name": "stdout",
     "output_type": "stream",
     "text": [
      "21 33 45 "
     ]
    }
   ],
   "source": [
    "#zip for element wise operation\n",
    "\n",
    "for i,j,k in zip(x,y,z):\n",
    "    print(i+j+k, end = ' ')"
   ]
  },
  {
   "cell_type": "code",
   "execution_count": 5,
   "metadata": {},
   "outputs": [
    {
     "name": "stdout",
     "output_type": "stream",
     "text": [
      "10\n",
      "20\n",
      "30\n",
      "loop completed \n"
     ]
    }
   ],
   "source": [
    "for i in x:\n",
    "    print(i)\n",
    "else:\n",
    "    print(\"loop completed \")"
   ]
  },
  {
   "cell_type": "code",
   "execution_count": 9,
   "metadata": {},
   "outputs": [
    {
     "name": "stdout",
     "output_type": "stream",
     "text": [
      "10\n",
      "20\n",
      "30\n",
      "loop completed\n"
     ]
    }
   ],
   "source": [
    "for i in x:\n",
    "    if i ==3:\n",
    "        break\n",
    "    print(i)\n",
    "else:\n",
    "    print(\"loop completed\")"
   ]
  },
  {
   "cell_type": "code",
   "execution_count": 13,
   "metadata": {},
   "outputs": [],
   "source": [
    "#prime number\n",
    "x =17\n",
    "for i in range(2,x):\n",
    "    if x % i == 0:\n",
    "        print('not prime')\n",
    "        break\n",
    "    else:\n",
    "        print('prime')"
   ]
  }
 ],
 "metadata": {
  "kernelspec": {
   "display_name": "base",
   "language": "python",
   "name": "python3"
  },
  "language_info": {
   "codemirror_mode": {
    "name": "ipython",
    "version": 3
   },
   "file_extension": ".py",
   "mimetype": "text/x-python",
   "name": "python",
   "nbconvert_exporter": "python",
   "pygments_lexer": "ipython3",
   "version": "3.10.10"
  },
  "orig_nbformat": 4
 },
 "nbformat": 4,
 "nbformat_minor": 2
}
