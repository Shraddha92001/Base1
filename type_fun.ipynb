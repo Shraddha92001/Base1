{
 "cells": [
  {
   "attachments": {},
   "cell_type": "markdown",
   "metadata": {},
   "source": [
    "type of function:\n",
    "    1. required argument function\n",
    "    2. keyword argument function\n",
    "    3. default agrument function\n",
    "    4. variable lenght aggument\n",
    "        a. *args(variable length argument)\n",
    "        b. **kwargs(variable length keywork     argument)"
   ]
  },
  {
   "cell_type": "code",
   "execution_count": 1,
   "metadata": {},
   "outputs": [],
   "source": [
    "def multiplier(x,y):\n",
    "    return x*y"
   ]
  },
  {
   "cell_type": "code",
   "execution_count": 2,
   "metadata": {},
   "outputs": [
    {
     "name": "stdout",
     "output_type": "stream",
     "text": [
      "6\n",
      "63\n",
      "46\n"
     ]
    },
    {
     "ename": "TypeError",
     "evalue": "multiplier() missing 1 required positional argument: 'y'",
     "output_type": "error",
     "traceback": [
      "\u001b[1;31m---------------------------------------------------------------------------\u001b[0m",
      "\u001b[1;31mTypeError\u001b[0m                                 Traceback (most recent call last)",
      "Cell \u001b[1;32mIn[2], line 7\u001b[0m\n\u001b[0;32m      3\u001b[0m \u001b[39mprint\u001b[39m(multiplier(\u001b[39m2\u001b[39m,\u001b[39m23\u001b[39m))\n\u001b[0;32m      6\u001b[0m \u001b[39m#required argument fun...\u001b[39;00m\n\u001b[1;32m----> 7\u001b[0m \u001b[39mprint\u001b[39m(multiplier(\u001b[39m2\u001b[39;49m))\n",
      "\u001b[1;31mTypeError\u001b[0m: multiplier() missing 1 required positional argument: 'y'"
     ]
    }
   ],
   "source": [
    "print(multiplier(2,3))\n",
    "print(multiplier(21,3))\n",
    "print(multiplier(2,23))\n",
    "\n",
    "\n",
    "#required argument fun...\n",
    "print(multiplier(2))"
   ]
  },
  {
   "cell_type": "code",
   "execution_count": null,
   "metadata": {},
   "outputs": [],
   "source": [
    "def si(p,r,t):\n",
    "    return p*r*t/100"
   ]
  },
  {
   "cell_type": "code",
   "execution_count": null,
   "metadata": {},
   "outputs": [
    {
     "name": "stdout",
     "output_type": "stream",
     "text": [
      "100.0\n",
      "100.0\n"
     ]
    }
   ],
   "source": [
    "print(si(10,1000,1)) # positional argument\n",
    "print(si(p=1000,r=10,t=1)) # keyword argument"
   ]
  },
  {
   "cell_type": "code",
   "execution_count": null,
   "metadata": {},
   "outputs": [],
   "source": [
    "# default agrument function\n",
    "\n",
    "def multiplier_2 (x,y,z=10):\n",
    "    return x*y*z"
   ]
  },
  {
   "cell_type": "code",
   "execution_count": null,
   "metadata": {},
   "outputs": [
    {
     "name": "stdout",
     "output_type": "stream",
     "text": [
      "2400\n",
      "600\n"
     ]
    },
    {
     "ename": "TypeError",
     "evalue": "multiplier_2() missing 2 required positional arguments: 'x' and 'y'",
     "output_type": "error",
     "traceback": [
      "\u001b[1;31m---------------------------------------------------------------------------\u001b[0m",
      "\u001b[1;31mTypeError\u001b[0m                                 Traceback (most recent call last)",
      "Cell \u001b[1;32mIn[22], line 3\u001b[0m\n\u001b[0;32m      1\u001b[0m \u001b[39mprint\u001b[39m(multiplier_2(\u001b[39m12\u001b[39m,\u001b[39m20\u001b[39m,\u001b[39m10\u001b[39m))\n\u001b[0;32m      2\u001b[0m \u001b[39mprint\u001b[39m(multiplier_2(\u001b[39m20\u001b[39m,\u001b[39m3\u001b[39m)) \u001b[39m# default agrument function\u001b[39;00m\n\u001b[1;32m----> 3\u001b[0m \u001b[39mprint\u001b[39m(multiplier_2(z \u001b[39m=\u001b[39;49m \u001b[39m20\u001b[39;49m))\n\u001b[0;32m      4\u001b[0m \u001b[39mprint\u001b[39m(multiplier_2(\u001b[39m12\u001b[39m))\n\u001b[0;32m      5\u001b[0m \u001b[39mprint\u001b[39m(multiplier_2(z \u001b[39m=\u001b[39m \u001b[39m12\u001b[39m))\n",
      "\u001b[1;31mTypeError\u001b[0m: multiplier_2() missing 2 required positional arguments: 'x' and 'y'"
     ]
    }
   ],
   "source": [
    "print(multiplier_2(12,20,10))\n",
    "print(multiplier_2(20,3)) # default agrument function\n",
    "print(multiplier_2(z = 20))\n",
    "print(multiplier_2(12))\n",
    "print(multiplier_2(z = 12))\n",
    "print(multiplier_2(z=12 , x=200))\n"
   ]
  },
  {
   "cell_type": "code",
   "execution_count": null,
   "metadata": {},
   "outputs": [],
   "source": [
    "# variable lenght arggument\n",
    "\n",
    "#*args(variable length argument)\n",
    "def mean(*args):\n",
    "    return sum(args)/len(args)\n",
    "    print(args)\n",
    "    print(type(args))"
   ]
  },
  {
   "cell_type": "code",
   "execution_count": null,
   "metadata": {},
   "outputs": [
    {
     "data": {
      "text/plain": [
       "10.125"
      ]
     },
     "execution_count": 32,
     "metadata": {},
     "output_type": "execute_result"
    }
   ],
   "source": [
    "mean(1,2,3,45,6,7,8,9)"
   ]
  },
  {
   "cell_type": "code",
   "execution_count": null,
   "metadata": {},
   "outputs": [],
   "source": [
    "\n",
    "# b. **kwargs(variable length keywork argument)\n",
    "\n",
    "def report( **students ):\n",
    "    with open('report.csv','w') as f:\n",
    "        f.write('name, marks\\n')\n",
    "        for name , marks in students.items():\n",
    "            print(f'{name} scored {marks}\\n')\n"
   ]
  },
  {
   "cell_type": "code",
   "execution_count": null,
   "metadata": {},
   "outputs": [
    {
     "name": "stdout",
     "output_type": "stream",
     "text": [
      "sakshi scored 100\n",
      "\n",
      "naeha scored 200\n",
      "\n",
      "shree scored 300\n",
      "\n"
     ]
    }
   ],
   "source": [
    "report(sakshi=100,naeha=200,shree=300)"
   ]
  },
  {
   "cell_type": "code",
   "execution_count": null,
   "metadata": {},
   "outputs": [
    {
     "ename": "SyntaxError",
     "evalue": "cannot assign to function call here. Maybe you meant '==' instead of '='? (2192610265.py, line 1)",
     "output_type": "error",
     "traceback": [
      "\u001b[1;36m  Cell \u001b[1;32mIn[42], line 1\u001b[1;36m\u001b[0m\n\u001b[1;33m    f(x) = x**2 + x*10 + x\u001b[0m\n\u001b[1;37m    ^\u001b[0m\n\u001b[1;31mSyntaxError\u001b[0m\u001b[1;31m:\u001b[0m cannot assign to function call here. Maybe you meant '==' instead of '='?\n"
     ]
    }
   ],
   "source": [
    "f(x) = x**2 + x*10 + x\n",
    "f(2)\n",
    "f(x,y) = x**2 + y**2 + x*y\n",
    "f(2,3)\n",
    "\n",
    "def eq1(x = 1):\n",
    "    return x**2 + x*10 + x"
   ]
  },
  {
   "cell_type": "code",
   "execution_count": null,
   "metadata": {},
   "outputs": [
    {
     "ename": "NameError",
     "evalue": "name 'eq1' is not defined",
     "output_type": "error",
     "traceback": [
      "\u001b[1;31m---------------------------------------------------------------------------\u001b[0m",
      "\u001b[1;31mNameError\u001b[0m                                 Traceback (most recent call last)",
      "Cell \u001b[1;32mIn[40], line 1\u001b[0m\n\u001b[1;32m----> 1\u001b[0m \u001b[39mprint\u001b[39m(eq1(\u001b[39m2\u001b[39m),eq1(\u001b[39m3\u001b[39m),eq1(\u001b[39m10\u001b[39m))\n",
      "\u001b[1;31mNameError\u001b[0m: name 'eq1' is not defined"
     ]
    }
   ],
   "source": [
    "print(eq1(2),eq1(3),eq1(10))"
   ]
  },
  {
   "cell_type": "code",
   "execution_count": null,
   "metadata": {},
   "outputs": [],
   "source": [
    "f = lambda i: i**2+i*10+i\n",
    "g = lambda x,y: x+y if x>y else y-x"
   ]
  },
  {
   "cell_type": "code",
   "execution_count": null,
   "metadata": {},
   "outputs": [
    {
     "name": "stdout",
     "output_type": "stream",
     "text": [
      "26 210\n",
      "11 35\n"
     ]
    }
   ],
   "source": [
    "print(f(2), f(10))\n",
    "print(g(2,13), g(33,2))"
   ]
  },
  {
   "cell_type": "code",
   "execution_count": null,
   "metadata": {},
   "outputs": [
    {
     "name": "stdout",
     "output_type": "stream",
     "text": [
      "sihtsiecnetnes"
     ]
    }
   ],
   "source": [
    "sentence = \" this is sentence\"\n",
    "word = sentence.split()\n",
    "i=0\n",
    "while i < len(word):\n",
    "    print(word[i][::-1],end ='')\n",
    "    i +=1"
   ]
  },
  {
   "cell_type": "code",
   "execution_count": null,
   "metadata": {},
   "outputs": [],
   "source": []
  }
 ],
 "metadata": {
  "kernelspec": {
   "display_name": "base",
   "language": "python",
   "name": "python3"
  },
  "language_info": {
   "codemirror_mode": {
    "name": "ipython",
    "version": 3
   },
   "file_extension": ".py",
   "mimetype": "text/x-python",
   "name": "python",
   "nbconvert_exporter": "python",
   "pygments_lexer": "ipython3",
   "version": "3.11.4"
  },
  "orig_nbformat": 4
 },
 "nbformat": 4,
 "nbformat_minor": 2
}
