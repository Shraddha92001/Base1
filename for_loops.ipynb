{
 "cells": [
  {
   "cell_type": "code",
   "execution_count": 1,
   "metadata": {},
   "outputs": [
    {
     "name": "stdout",
     "output_type": "stream",
     "text": [
      "apple\n",
      "banana\n",
      "cherry\n",
      "orange\n",
      "kiwi\n"
     ]
    }
   ],
   "source": [
    "fruit = ['apple','banana','cherry','orange','kiwi']\n",
    "for fru in fruit:\n",
    "    print(fru)"
   ]
  },
  {
   "cell_type": "code",
   "execution_count": 2,
   "metadata": {},
   "outputs": [
    {
     "name": "stdout",
     "output_type": "stream",
     "text": [
      "(0, 'apple')\n",
      "(1, 'banana')\n",
      "(2, 'cherry')\n",
      "(3, 'orange')\n",
      "(4, 'kiwi')\n"
     ]
    }
   ],
   "source": [
    "for item in enumerate(fruit):\n",
    "    print(item)"
   ]
  },
  {
   "cell_type": "code",
   "execution_count": 3,
   "metadata": {},
   "outputs": [
    {
     "name": "stdout",
     "output_type": "stream",
     "text": [
      "0 => apple\n",
      "1 => banana\n",
      "2 => cherry\n",
      "3 => orange\n",
      "4 => kiwi\n"
     ]
    }
   ],
   "source": [
    "for idx, val in enumerate(fruit):\n",
    "    print(f'{idx} => {val}')\n"
   ]
  },
  {
   "cell_type": "code",
   "execution_count": 4,
   "metadata": {},
   "outputs": [
    {
     "name": "stdout",
     "output_type": "stream",
     "text": [
      "banana\n",
      "orange\n"
     ]
    }
   ],
   "source": [
    "for idx, val in enumerate(fruit ,1):   \n",
    "    if idx % 2 == 0:\n",
    "        print(val)"
   ]
  },
  {
   "cell_type": "code",
   "execution_count": 5,
   "metadata": {},
   "outputs": [
    {
     "name": "stdout",
     "output_type": "stream",
     "text": [
      "apple\n",
      "banana\n",
      "cherry\n"
     ]
    }
   ],
   "source": [
    "for idx, val in enumerate(fruit):\n",
    "    if idx == 3:\n",
    "        break\n",
    "    print(val)"
   ]
  }
 ],
 "metadata": {
  "kernelspec": {
   "display_name": "base",
   "language": "python",
   "name": "python3"
  },
  "language_info": {
   "codemirror_mode": {
    "name": "ipython",
    "version": 3
   },
   "file_extension": ".py",
   "mimetype": "text/x-python",
   "name": "python",
   "nbconvert_exporter": "python",
   "pygments_lexer": "ipython3",
   "version": "3.11.4"
  },
  "orig_nbformat": 4
 },
 "nbformat": 4,
 "nbformat_minor": 2
}
